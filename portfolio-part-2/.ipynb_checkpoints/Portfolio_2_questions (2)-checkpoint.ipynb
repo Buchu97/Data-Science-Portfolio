{
 "cells": [
  {
   "cell_type": "markdown",
   "id": "Z88FfJc9lA_T",
   "metadata": {
    "id": "Z88FfJc9lA_T"
   },
   "source": [
    "## Analysis of an E-commerce Dataset Part 2"
   ]
  },
  {
   "cell_type": "markdown",
   "id": "hoq0NwA9lA_V",
   "metadata": {
    "id": "hoq0NwA9lA_V"
   },
   "source": [
    "The goal of the second analysis task is to train linear regression models to predict users' ratings towards items. This involves a standard Data Science workflow: exploring data, building models, making predictions, and evaluating results. In this task, we will explore the impacts of feature selections and different sizes of training/testing data on the model performance. We will use another cleaned combined e-commerce sub-dataset that **is different from** the one in “Analysis of an E-commerce Dataset” task 1."
   ]
  },
  {
   "cell_type": "markdown",
   "id": "f9fd3NU_lA_W",
   "metadata": {
    "id": "f9fd3NU_lA_W"
   },
   "source": [
    "### Import Cleaned E-commerce Dataset\n",
    "The csv file named 'cleaned_ecommerce_dataset.csv' is provided. You may need to use the Pandas method, i.e., `read_csv`, for reading it. After that, please print out its total length."
   ]
  },
  {
   "cell_type": "code",
   "execution_count": 1,
   "id": "PJrb2gtAlA_W",
   "metadata": {
    "id": "PJrb2gtAlA_W"
   },
   "outputs": [
    {
     "name": "stdout",
     "output_type": "stream",
     "text": [
      "(2685, 11)\n"
     ]
    }
   ],
   "source": [
    "Student_Name='Ahmed Taseen Muntaha'\n",
    "Student_ID='47348445'\n",
    "\n",
    "import pandas as pd\n",
    "ecommerce=pd.read_csv('cleaned_ecommerce_dataset.csv')\n",
    "print(ecommerce.shape)"
   ]
  },
  {
   "cell_type": "markdown",
   "id": "aqbuU6rglA_X",
   "metadata": {
    "id": "aqbuU6rglA_X"
   },
   "source": [
    "### Explore the Dataset\n",
    "\n",
    "* Use the methods, i.e., `head()` and `info()`, to have a rough picture about the data, e.g., how many columns, and the data types of each column.\n",
    "* As our goal is to predict ratings given other columns, please get the correlations between helpfulness/gender/category/review and rating by using the `corr()` method.\n",
    "* To get the correlations between different features, you may need to first convert the categorical features (i.e., gender, category and review) into numerial values. For doing this, you may need to import `OrdinalEncoder` from `sklearn.preprocessing` (refer to the useful exmaples [here](https://pbpython.com/categorical-encoding.html))\n",
    "* Please provide ___necessary explanations/analysis___ on the correlations, and figure out which are the ___most___ and ___least___ corrleated features regarding rating. Try to ___discuss___ how the correlation will affect the final prediction results, if we use these features to train a regression model for rating prediction. In what follows, we will conduct experiments to verify your hypothesis."
   ]
  },
  {
   "cell_type": "code",
   "execution_count": 66,
   "id": "W3PImHiElA_X",
   "metadata": {
    "id": "W3PImHiElA_X"
   },
   "outputs": [
    {
     "data": {
      "text/html": [
       "<div>\n",
       "<style scoped>\n",
       "    .dataframe tbody tr th:only-of-type {\n",
       "        vertical-align: middle;\n",
       "    }\n",
       "\n",
       "    .dataframe tbody tr th {\n",
       "        vertical-align: top;\n",
       "    }\n",
       "\n",
       "    .dataframe thead th {\n",
       "        text-align: right;\n",
       "    }\n",
       "</style>\n",
       "<table border=\"1\" class=\"dataframe\">\n",
       "  <thead>\n",
       "    <tr style=\"text-align: right;\">\n",
       "      <th></th>\n",
       "      <th>userId</th>\n",
       "      <th>timestamp</th>\n",
       "      <th>review</th>\n",
       "      <th>item</th>\n",
       "      <th>rating</th>\n",
       "      <th>helpfulness</th>\n",
       "      <th>gender</th>\n",
       "      <th>category</th>\n",
       "      <th>item_id</th>\n",
       "      <th>item_price</th>\n",
       "      <th>user_city</th>\n",
       "    </tr>\n",
       "  </thead>\n",
       "  <tbody>\n",
       "    <tr>\n",
       "      <th>0</th>\n",
       "      <td>4081</td>\n",
       "      <td>71900</td>\n",
       "      <td>Not always McCrap</td>\n",
       "      <td>McDonald's</td>\n",
       "      <td>4.0</td>\n",
       "      <td>3.0</td>\n",
       "      <td>M</td>\n",
       "      <td>Restaurants &amp; Gourmet</td>\n",
       "      <td>41</td>\n",
       "      <td>30.74</td>\n",
       "      <td>4</td>\n",
       "    </tr>\n",
       "    <tr>\n",
       "      <th>1</th>\n",
       "      <td>4081</td>\n",
       "      <td>72000</td>\n",
       "      <td>I dropped the chalupa even before he told me to</td>\n",
       "      <td>Taco Bell</td>\n",
       "      <td>1.0</td>\n",
       "      <td>4.0</td>\n",
       "      <td>M</td>\n",
       "      <td>Restaurants &amp; Gourmet</td>\n",
       "      <td>74</td>\n",
       "      <td>108.30</td>\n",
       "      <td>4</td>\n",
       "    </tr>\n",
       "    <tr>\n",
       "      <th>2</th>\n",
       "      <td>4081</td>\n",
       "      <td>72000</td>\n",
       "      <td>The Wonderful World of Wendy</td>\n",
       "      <td>Wendy's</td>\n",
       "      <td>5.0</td>\n",
       "      <td>4.0</td>\n",
       "      <td>M</td>\n",
       "      <td>Restaurants &amp; Gourmet</td>\n",
       "      <td>84</td>\n",
       "      <td>69.00</td>\n",
       "      <td>4</td>\n",
       "    </tr>\n",
       "    <tr>\n",
       "      <th>3</th>\n",
       "      <td>4081</td>\n",
       "      <td>100399</td>\n",
       "      <td>They actually did it</td>\n",
       "      <td>South Park: Bigger, Longer &amp; Uncut</td>\n",
       "      <td>5.0</td>\n",
       "      <td>3.0</td>\n",
       "      <td>M</td>\n",
       "      <td>Movies</td>\n",
       "      <td>68</td>\n",
       "      <td>143.11</td>\n",
       "      <td>4</td>\n",
       "    </tr>\n",
       "    <tr>\n",
       "      <th>4</th>\n",
       "      <td>4081</td>\n",
       "      <td>100399</td>\n",
       "      <td>Hey! Gimme some pie!</td>\n",
       "      <td>American Pie</td>\n",
       "      <td>3.0</td>\n",
       "      <td>3.0</td>\n",
       "      <td>M</td>\n",
       "      <td>Movies</td>\n",
       "      <td>6</td>\n",
       "      <td>117.89</td>\n",
       "      <td>4</td>\n",
       "    </tr>\n",
       "  </tbody>\n",
       "</table>\n",
       "</div>"
      ],
      "text/plain": [
       "   userId  timestamp                                           review  \\\n",
       "0    4081      71900                                Not always McCrap   \n",
       "1    4081      72000  I dropped the chalupa even before he told me to   \n",
       "2    4081      72000                     The Wonderful World of Wendy   \n",
       "3    4081     100399                             They actually did it   \n",
       "4    4081     100399                             Hey! Gimme some pie!   \n",
       "\n",
       "                                 item  rating  helpfulness gender  \\\n",
       "0                          McDonald's     4.0          3.0      M   \n",
       "1                           Taco Bell     1.0          4.0      M   \n",
       "2                             Wendy's     5.0          4.0      M   \n",
       "3  South Park: Bigger, Longer & Uncut     5.0          3.0      M   \n",
       "4                        American Pie     3.0          3.0      M   \n",
       "\n",
       "                category  item_id  item_price  user_city  \n",
       "0  Restaurants & Gourmet       41       30.74          4  \n",
       "1  Restaurants & Gourmet       74      108.30          4  \n",
       "2  Restaurants & Gourmet       84       69.00          4  \n",
       "3                 Movies       68      143.11          4  \n",
       "4                 Movies        6      117.89          4  "
      ]
     },
     "execution_count": 66,
     "metadata": {},
     "output_type": "execute_result"
    }
   ],
   "source": [
    "ecommerce.head()"
   ]
  },
  {
   "cell_type": "code",
   "execution_count": 67,
   "id": "cf7e6ca3",
   "metadata": {},
   "outputs": [
    {
     "name": "stdout",
     "output_type": "stream",
     "text": [
      "<class 'pandas.core.frame.DataFrame'>\n",
      "RangeIndex: 2685 entries, 0 to 2684\n",
      "Data columns (total 11 columns):\n",
      " #   Column       Non-Null Count  Dtype  \n",
      "---  ------       --------------  -----  \n",
      " 0   userId       2685 non-null   int64  \n",
      " 1   timestamp    2685 non-null   int64  \n",
      " 2   review       2685 non-null   object \n",
      " 3   item         2685 non-null   object \n",
      " 4   rating       2685 non-null   float64\n",
      " 5   helpfulness  2685 non-null   float64\n",
      " 6   gender       2685 non-null   object \n",
      " 7   category     2685 non-null   object \n",
      " 8   item_id      2685 non-null   int64  \n",
      " 9   item_price   2685 non-null   float64\n",
      " 10  user_city    2685 non-null   int64  \n",
      "dtypes: float64(3), int64(4), object(4)\n",
      "memory usage: 230.9+ KB\n"
     ]
    }
   ],
   "source": [
    "ecommerce.info()"
   ]
  },
  {
   "cell_type": "code",
   "execution_count": 68,
   "id": "781d95ab",
   "metadata": {},
   "outputs": [
    {
     "name": "stderr",
     "output_type": "stream",
     "text": [
      "C:\\Users\\tasee\\AppData\\Local\\Temp\\ipykernel_7864\\3150153915.py:1: FutureWarning: The default value of numeric_only in DataFrame.corr is deprecated. In a future version, it will default to False. Select only valid columns or specify the value of numeric_only to silence this warning.\n",
      "  ecommerce.corr()\n"
     ]
    },
    {
     "data": {
      "text/html": [
       "<div>\n",
       "<style scoped>\n",
       "    .dataframe tbody tr th:only-of-type {\n",
       "        vertical-align: middle;\n",
       "    }\n",
       "\n",
       "    .dataframe tbody tr th {\n",
       "        vertical-align: top;\n",
       "    }\n",
       "\n",
       "    .dataframe thead th {\n",
       "        text-align: right;\n",
       "    }\n",
       "</style>\n",
       "<table border=\"1\" class=\"dataframe\">\n",
       "  <thead>\n",
       "    <tr style=\"text-align: right;\">\n",
       "      <th></th>\n",
       "      <th>userId</th>\n",
       "      <th>timestamp</th>\n",
       "      <th>rating</th>\n",
       "      <th>helpfulness</th>\n",
       "      <th>item_id</th>\n",
       "      <th>item_price</th>\n",
       "      <th>user_city</th>\n",
       "    </tr>\n",
       "  </thead>\n",
       "  <tbody>\n",
       "    <tr>\n",
       "      <th>userId</th>\n",
       "      <td>1.000000</td>\n",
       "      <td>-0.069176</td>\n",
       "      <td>0.032506</td>\n",
       "      <td>-0.166136</td>\n",
       "      <td>-0.005549</td>\n",
       "      <td>0.024576</td>\n",
       "      <td>-0.030031</td>\n",
       "    </tr>\n",
       "    <tr>\n",
       "      <th>timestamp</th>\n",
       "      <td>-0.069176</td>\n",
       "      <td>1.000000</td>\n",
       "      <td>0.000369</td>\n",
       "      <td>0.014179</td>\n",
       "      <td>-0.004452</td>\n",
       "      <td>0.010979</td>\n",
       "      <td>-0.014934</td>\n",
       "    </tr>\n",
       "    <tr>\n",
       "      <th>rating</th>\n",
       "      <td>0.032506</td>\n",
       "      <td>0.000369</td>\n",
       "      <td>1.000000</td>\n",
       "      <td>-0.007523</td>\n",
       "      <td>0.042890</td>\n",
       "      <td>0.027374</td>\n",
       "      <td>-0.028825</td>\n",
       "    </tr>\n",
       "    <tr>\n",
       "      <th>helpfulness</th>\n",
       "      <td>-0.166136</td>\n",
       "      <td>0.014179</td>\n",
       "      <td>-0.007523</td>\n",
       "      <td>1.000000</td>\n",
       "      <td>-0.019882</td>\n",
       "      <td>0.004112</td>\n",
       "      <td>0.012086</td>\n",
       "    </tr>\n",
       "    <tr>\n",
       "      <th>item_id</th>\n",
       "      <td>-0.005549</td>\n",
       "      <td>-0.004452</td>\n",
       "      <td>0.042890</td>\n",
       "      <td>-0.019882</td>\n",
       "      <td>1.000000</td>\n",
       "      <td>-0.054450</td>\n",
       "      <td>-0.005576</td>\n",
       "    </tr>\n",
       "    <tr>\n",
       "      <th>item_price</th>\n",
       "      <td>0.024576</td>\n",
       "      <td>0.010979</td>\n",
       "      <td>0.027374</td>\n",
       "      <td>0.004112</td>\n",
       "      <td>-0.054450</td>\n",
       "      <td>1.000000</td>\n",
       "      <td>-0.023427</td>\n",
       "    </tr>\n",
       "    <tr>\n",
       "      <th>user_city</th>\n",
       "      <td>-0.030031</td>\n",
       "      <td>-0.014934</td>\n",
       "      <td>-0.028825</td>\n",
       "      <td>0.012086</td>\n",
       "      <td>-0.005576</td>\n",
       "      <td>-0.023427</td>\n",
       "      <td>1.000000</td>\n",
       "    </tr>\n",
       "  </tbody>\n",
       "</table>\n",
       "</div>"
      ],
      "text/plain": [
       "               userId  timestamp    rating  helpfulness   item_id  item_price  \\\n",
       "userId       1.000000  -0.069176  0.032506    -0.166136 -0.005549    0.024576   \n",
       "timestamp   -0.069176   1.000000  0.000369     0.014179 -0.004452    0.010979   \n",
       "rating       0.032506   0.000369  1.000000    -0.007523  0.042890    0.027374   \n",
       "helpfulness -0.166136   0.014179 -0.007523     1.000000 -0.019882    0.004112   \n",
       "item_id     -0.005549  -0.004452  0.042890    -0.019882  1.000000   -0.054450   \n",
       "item_price   0.024576   0.010979  0.027374     0.004112 -0.054450    1.000000   \n",
       "user_city   -0.030031  -0.014934 -0.028825     0.012086 -0.005576   -0.023427   \n",
       "\n",
       "             user_city  \n",
       "userId       -0.030031  \n",
       "timestamp    -0.014934  \n",
       "rating       -0.028825  \n",
       "helpfulness   0.012086  \n",
       "item_id      -0.005576  \n",
       "item_price   -0.023427  \n",
       "user_city     1.000000  "
      ]
     },
     "execution_count": 68,
     "metadata": {},
     "output_type": "execute_result"
    }
   ],
   "source": [
    "ecommerce.corr()"
   ]
  },
  {
   "cell_type": "code",
   "execution_count": 5,
   "id": "82572181",
   "metadata": {},
   "outputs": [
    {
     "data": {
      "text/html": [
       "<div>\n",
       "<style scoped>\n",
       "    .dataframe tbody tr th:only-of-type {\n",
       "        vertical-align: middle;\n",
       "    }\n",
       "\n",
       "    .dataframe tbody tr th {\n",
       "        vertical-align: top;\n",
       "    }\n",
       "\n",
       "    .dataframe thead th {\n",
       "        text-align: right;\n",
       "    }\n",
       "</style>\n",
       "<table border=\"1\" class=\"dataframe\">\n",
       "  <thead>\n",
       "    <tr style=\"text-align: right;\">\n",
       "      <th></th>\n",
       "      <th>userId</th>\n",
       "      <th>timestamp</th>\n",
       "      <th>review</th>\n",
       "      <th>item</th>\n",
       "      <th>rating</th>\n",
       "      <th>helpfulness</th>\n",
       "      <th>gender</th>\n",
       "      <th>category</th>\n",
       "      <th>item_id</th>\n",
       "      <th>item_price</th>\n",
       "      <th>user_city</th>\n",
       "      <th>review_numeric</th>\n",
       "      <th>item_numeric</th>\n",
       "      <th>gender_numeric</th>\n",
       "      <th>category_numeric</th>\n",
       "    </tr>\n",
       "  </thead>\n",
       "  <tbody>\n",
       "    <tr>\n",
       "      <th>0</th>\n",
       "      <td>4081</td>\n",
       "      <td>71900</td>\n",
       "      <td>Not always McCrap</td>\n",
       "      <td>McDonald's</td>\n",
       "      <td>4.0</td>\n",
       "      <td>3.0</td>\n",
       "      <td>M</td>\n",
       "      <td>Restaurants &amp; Gourmet</td>\n",
       "      <td>41</td>\n",
       "      <td>30.74</td>\n",
       "      <td>4</td>\n",
       "      <td>1618.0</td>\n",
       "      <td>37.0</td>\n",
       "      <td>1.0</td>\n",
       "      <td>8.0</td>\n",
       "    </tr>\n",
       "    <tr>\n",
       "      <th>1</th>\n",
       "      <td>4081</td>\n",
       "      <td>72000</td>\n",
       "      <td>I dropped the chalupa even before he told me to</td>\n",
       "      <td>Taco Bell</td>\n",
       "      <td>1.0</td>\n",
       "      <td>4.0</td>\n",
       "      <td>M</td>\n",
       "      <td>Restaurants &amp; Gourmet</td>\n",
       "      <td>74</td>\n",
       "      <td>108.30</td>\n",
       "      <td>4</td>\n",
       "      <td>1125.0</td>\n",
       "      <td>67.0</td>\n",
       "      <td>1.0</td>\n",
       "      <td>8.0</td>\n",
       "    </tr>\n",
       "    <tr>\n",
       "      <th>2</th>\n",
       "      <td>4081</td>\n",
       "      <td>72000</td>\n",
       "      <td>The Wonderful World of Wendy</td>\n",
       "      <td>Wendy's</td>\n",
       "      <td>5.0</td>\n",
       "      <td>4.0</td>\n",
       "      <td>M</td>\n",
       "      <td>Restaurants &amp; Gourmet</td>\n",
       "      <td>84</td>\n",
       "      <td>69.00</td>\n",
       "      <td>4</td>\n",
       "      <td>2185.0</td>\n",
       "      <td>77.0</td>\n",
       "      <td>1.0</td>\n",
       "      <td>8.0</td>\n",
       "    </tr>\n",
       "    <tr>\n",
       "      <th>3</th>\n",
       "      <td>4081</td>\n",
       "      <td>100399</td>\n",
       "      <td>They actually did it</td>\n",
       "      <td>South Park: Bigger, Longer &amp; Uncut</td>\n",
       "      <td>5.0</td>\n",
       "      <td>3.0</td>\n",
       "      <td>M</td>\n",
       "      <td>Movies</td>\n",
       "      <td>68</td>\n",
       "      <td>143.11</td>\n",
       "      <td>4</td>\n",
       "      <td>2243.0</td>\n",
       "      <td>61.0</td>\n",
       "      <td>1.0</td>\n",
       "      <td>5.0</td>\n",
       "    </tr>\n",
       "    <tr>\n",
       "      <th>4</th>\n",
       "      <td>4081</td>\n",
       "      <td>100399</td>\n",
       "      <td>Hey! Gimme some pie!</td>\n",
       "      <td>American Pie</td>\n",
       "      <td>3.0</td>\n",
       "      <td>3.0</td>\n",
       "      <td>M</td>\n",
       "      <td>Movies</td>\n",
       "      <td>6</td>\n",
       "      <td>117.89</td>\n",
       "      <td>4</td>\n",
       "      <td>1033.0</td>\n",
       "      <td>5.0</td>\n",
       "      <td>1.0</td>\n",
       "      <td>5.0</td>\n",
       "    </tr>\n",
       "    <tr>\n",
       "      <th>...</th>\n",
       "      <td>...</td>\n",
       "      <td>...</td>\n",
       "      <td>...</td>\n",
       "      <td>...</td>\n",
       "      <td>...</td>\n",
       "      <td>...</td>\n",
       "      <td>...</td>\n",
       "      <td>...</td>\n",
       "      <td>...</td>\n",
       "      <td>...</td>\n",
       "      <td>...</td>\n",
       "      <td>...</td>\n",
       "      <td>...</td>\n",
       "      <td>...</td>\n",
       "      <td>...</td>\n",
       "    </tr>\n",
       "    <tr>\n",
       "      <th>2680</th>\n",
       "      <td>2445</td>\n",
       "      <td>22000</td>\n",
       "      <td>Great movie!</td>\n",
       "      <td>Austin Powers: The Spy Who Shagged Me</td>\n",
       "      <td>5.0</td>\n",
       "      <td>3.0</td>\n",
       "      <td>M</td>\n",
       "      <td>Movies</td>\n",
       "      <td>9</td>\n",
       "      <td>111.00</td>\n",
       "      <td>5</td>\n",
       "      <td>968.0</td>\n",
       "      <td>8.0</td>\n",
       "      <td>1.0</td>\n",
       "      <td>5.0</td>\n",
       "    </tr>\n",
       "    <tr>\n",
       "      <th>2681</th>\n",
       "      <td>2445</td>\n",
       "      <td>30700</td>\n",
       "      <td>Good food!</td>\n",
       "      <td>Outback Steakhouse</td>\n",
       "      <td>5.0</td>\n",
       "      <td>3.0</td>\n",
       "      <td>M</td>\n",
       "      <td>Restaurants &amp; Gourmet</td>\n",
       "      <td>50</td>\n",
       "      <td>25.00</td>\n",
       "      <td>5</td>\n",
       "      <td>920.0</td>\n",
       "      <td>45.0</td>\n",
       "      <td>1.0</td>\n",
       "      <td>8.0</td>\n",
       "    </tr>\n",
       "    <tr>\n",
       "      <th>2682</th>\n",
       "      <td>2445</td>\n",
       "      <td>61500</td>\n",
       "      <td>Great movie!</td>\n",
       "      <td>Fight Club</td>\n",
       "      <td>5.0</td>\n",
       "      <td>3.0</td>\n",
       "      <td>M</td>\n",
       "      <td>Movies</td>\n",
       "      <td>26</td>\n",
       "      <td>97.53</td>\n",
       "      <td>5</td>\n",
       "      <td>968.0</td>\n",
       "      <td>24.0</td>\n",
       "      <td>1.0</td>\n",
       "      <td>5.0</td>\n",
       "    </tr>\n",
       "    <tr>\n",
       "      <th>2683</th>\n",
       "      <td>2445</td>\n",
       "      <td>100500</td>\n",
       "      <td>Awesome Game.</td>\n",
       "      <td>The Sims 2: Open for Business for Windows</td>\n",
       "      <td>5.0</td>\n",
       "      <td>4.0</td>\n",
       "      <td>M</td>\n",
       "      <td>Games</td>\n",
       "      <td>79</td>\n",
       "      <td>27.00</td>\n",
       "      <td>5</td>\n",
       "      <td>372.0</td>\n",
       "      <td>72.0</td>\n",
       "      <td>1.0</td>\n",
       "      <td>1.0</td>\n",
       "    </tr>\n",
       "    <tr>\n",
       "      <th>2684</th>\n",
       "      <td>2445</td>\n",
       "      <td>101400</td>\n",
       "      <td>Great Service.</td>\n",
       "      <td>PayPal</td>\n",
       "      <td>5.0</td>\n",
       "      <td>3.0</td>\n",
       "      <td>M</td>\n",
       "      <td>Personal Finance</td>\n",
       "      <td>52</td>\n",
       "      <td>38.00</td>\n",
       "      <td>5</td>\n",
       "      <td>959.0</td>\n",
       "      <td>47.0</td>\n",
       "      <td>1.0</td>\n",
       "      <td>7.0</td>\n",
       "    </tr>\n",
       "  </tbody>\n",
       "</table>\n",
       "<p>2685 rows × 15 columns</p>\n",
       "</div>"
      ],
      "text/plain": [
       "      userId  timestamp                                           review  \\\n",
       "0       4081      71900                                Not always McCrap   \n",
       "1       4081      72000  I dropped the chalupa even before he told me to   \n",
       "2       4081      72000                     The Wonderful World of Wendy   \n",
       "3       4081     100399                             They actually did it   \n",
       "4       4081     100399                             Hey! Gimme some pie!   \n",
       "...      ...        ...                                              ...   \n",
       "2680    2445      22000                                     Great movie!   \n",
       "2681    2445      30700                                       Good food!   \n",
       "2682    2445      61500                                     Great movie!   \n",
       "2683    2445     100500                                    Awesome Game.   \n",
       "2684    2445     101400                                   Great Service.   \n",
       "\n",
       "                                           item  rating  helpfulness gender  \\\n",
       "0                                    McDonald's     4.0          3.0      M   \n",
       "1                                     Taco Bell     1.0          4.0      M   \n",
       "2                                       Wendy's     5.0          4.0      M   \n",
       "3            South Park: Bigger, Longer & Uncut     5.0          3.0      M   \n",
       "4                                  American Pie     3.0          3.0      M   \n",
       "...                                         ...     ...          ...    ...   \n",
       "2680      Austin Powers: The Spy Who Shagged Me     5.0          3.0      M   \n",
       "2681                         Outback Steakhouse     5.0          3.0      M   \n",
       "2682                                 Fight Club     5.0          3.0      M   \n",
       "2683  The Sims 2: Open for Business for Windows     5.0          4.0      M   \n",
       "2684                                     PayPal     5.0          3.0      M   \n",
       "\n",
       "                   category  item_id  item_price  user_city  review_numeric  \\\n",
       "0     Restaurants & Gourmet       41       30.74          4          1618.0   \n",
       "1     Restaurants & Gourmet       74      108.30          4          1125.0   \n",
       "2     Restaurants & Gourmet       84       69.00          4          2185.0   \n",
       "3                    Movies       68      143.11          4          2243.0   \n",
       "4                    Movies        6      117.89          4          1033.0   \n",
       "...                     ...      ...         ...        ...             ...   \n",
       "2680                 Movies        9      111.00          5           968.0   \n",
       "2681  Restaurants & Gourmet       50       25.00          5           920.0   \n",
       "2682                 Movies       26       97.53          5           968.0   \n",
       "2683                  Games       79       27.00          5           372.0   \n",
       "2684       Personal Finance       52       38.00          5           959.0   \n",
       "\n",
       "      item_numeric  gender_numeric  category_numeric  \n",
       "0             37.0             1.0               8.0  \n",
       "1             67.0             1.0               8.0  \n",
       "2             77.0             1.0               8.0  \n",
       "3             61.0             1.0               5.0  \n",
       "4              5.0             1.0               5.0  \n",
       "...            ...             ...               ...  \n",
       "2680           8.0             1.0               5.0  \n",
       "2681          45.0             1.0               8.0  \n",
       "2682          24.0             1.0               5.0  \n",
       "2683          72.0             1.0               1.0  \n",
       "2684          47.0             1.0               7.0  \n",
       "\n",
       "[2685 rows x 15 columns]"
      ]
     },
     "execution_count": 5,
     "metadata": {},
     "output_type": "execute_result"
    }
   ],
   "source": [
    "from sklearn.preprocessing import OrdinalEncoder\n",
    "\n",
    "#Converting the categorical values: review, item, gender and category to numerical values using OrdinalEncoder\n",
    "ecommerceNumeric=OrdinalEncoder()\n",
    "ecommerce['review_numeric']=ecommerceNumeric.fit_transform(ecommerce[[\"review\"]])\n",
    "ecommerce['item_numeric']=ecommerceNumeric.fit_transform(ecommerce[[\"item\"]])\n",
    "ecommerce['gender_numeric']=ecommerceNumeric.fit_transform(ecommerce[[\"gender\"]])\n",
    "ecommerce['category_numeric']=ecommerceNumeric.fit_transform(ecommerce[[\"category\"]])\n",
    "\n",
    "ecommerce"
   ]
  },
  {
   "cell_type": "code",
   "execution_count": 70,
   "id": "0d6f0b9c",
   "metadata": {},
   "outputs": [
    {
     "data": {
      "text/html": [
       "<div>\n",
       "<style scoped>\n",
       "    .dataframe tbody tr th:only-of-type {\n",
       "        vertical-align: middle;\n",
       "    }\n",
       "\n",
       "    .dataframe tbody tr th {\n",
       "        vertical-align: top;\n",
       "    }\n",
       "\n",
       "    .dataframe thead th {\n",
       "        text-align: right;\n",
       "    }\n",
       "</style>\n",
       "<table border=\"1\" class=\"dataframe\">\n",
       "  <thead>\n",
       "    <tr style=\"text-align: right;\">\n",
       "      <th></th>\n",
       "      <th>rating</th>\n",
       "      <th>review_numeric</th>\n",
       "      <th>helpfulness</th>\n",
       "      <th>gender_numeric</th>\n",
       "      <th>category_numeric</th>\n",
       "    </tr>\n",
       "  </thead>\n",
       "  <tbody>\n",
       "    <tr>\n",
       "      <th>rating</th>\n",
       "      <td>1.000000</td>\n",
       "      <td>-0.036118</td>\n",
       "      <td>-0.007523</td>\n",
       "      <td>-0.034337</td>\n",
       "      <td>-0.163158</td>\n",
       "    </tr>\n",
       "    <tr>\n",
       "      <th>review_numeric</th>\n",
       "      <td>-0.036118</td>\n",
       "      <td>1.000000</td>\n",
       "      <td>-0.028259</td>\n",
       "      <td>-0.037884</td>\n",
       "      <td>0.001970</td>\n",
       "    </tr>\n",
       "    <tr>\n",
       "      <th>helpfulness</th>\n",
       "      <td>-0.007523</td>\n",
       "      <td>-0.028259</td>\n",
       "      <td>1.000000</td>\n",
       "      <td>0.075947</td>\n",
       "      <td>-0.013408</td>\n",
       "    </tr>\n",
       "    <tr>\n",
       "      <th>gender_numeric</th>\n",
       "      <td>-0.034337</td>\n",
       "      <td>-0.037884</td>\n",
       "      <td>0.075947</td>\n",
       "      <td>1.000000</td>\n",
       "      <td>0.022549</td>\n",
       "    </tr>\n",
       "    <tr>\n",
       "      <th>category_numeric</th>\n",
       "      <td>-0.163158</td>\n",
       "      <td>0.001970</td>\n",
       "      <td>-0.013408</td>\n",
       "      <td>0.022549</td>\n",
       "      <td>1.000000</td>\n",
       "    </tr>\n",
       "  </tbody>\n",
       "</table>\n",
       "</div>"
      ],
      "text/plain": [
       "                    rating  review_numeric  helpfulness  gender_numeric  \\\n",
       "rating            1.000000       -0.036118    -0.007523       -0.034337   \n",
       "review_numeric   -0.036118        1.000000    -0.028259       -0.037884   \n",
       "helpfulness      -0.007523       -0.028259     1.000000        0.075947   \n",
       "gender_numeric   -0.034337       -0.037884     0.075947        1.000000   \n",
       "category_numeric -0.163158        0.001970    -0.013408        0.022549   \n",
       "\n",
       "                  category_numeric  \n",
       "rating                   -0.163158  \n",
       "review_numeric            0.001970  \n",
       "helpfulness              -0.013408  \n",
       "gender_numeric            0.022549  \n",
       "category_numeric          1.000000  "
      ]
     },
     "execution_count": 70,
     "metadata": {},
     "output_type": "execute_result"
    }
   ],
   "source": [
    "ecommerce[['rating', 'review_numeric','helpfulness', 'gender_numeric','category_numeric']].corr()"
   ]
  },
  {
   "cell_type": "markdown",
   "id": "4myP5igslA_Y",
   "metadata": {
    "id": "4myP5igslA_Y"
   },
   "source": [
    "### Split Training and Testing Data\n",
    "* Machine learning models are trained to help make predictions for the future. Normally, we need to randomly split the dataset into training and testing sets, where we use the training set to train the model, and then leverage the well-trained model to make predictions on the testing set.\n",
    "* To further investigate whether the size of the training/testing data affects the model performance, please random split the data into training and testing sets with different sizes:\n",
    "    * Case 1: training data containing 10% of the entire data;\n",
    "    * Case 2: training data containing 90% of the entire data.\n",
    "* Print the shape of training and testing sets in the two cases."
   ]
  },
  {
   "cell_type": "code",
   "execution_count": 2,
   "id": "JIDMig9blA_Y",
   "metadata": {
    "id": "JIDMig9blA_Y"
   },
   "outputs": [
    {
     "name": "stdout",
     "output_type": "stream",
     "text": [
      "Case 1: Shape of training and testing data sets are respectively (268, 11) and (2417, 11)\n",
      "Case 2: Shape of training and testing data sets are respectively (2416, 11) and (269, 11)\n"
     ]
    }
   ],
   "source": [
    "from sklearn.model_selection import train_test_split\n",
    "\n",
    "train1, test1 = train_test_split(ecommerce, train_size=0.1, random_state=142)\n",
    "print('Case 1: Shape of training and testing data sets are respectively',train1.shape, 'and', test1.shape)\n",
    "\n",
    "train2, test2 = train_test_split(ecommerce, train_size=0.9, random_state=142)\n",
    "print('Case 2: Shape of training and testing data sets are respectively',train2.shape, 'and', test2.shape)"
   ]
  },
  {
   "cell_type": "markdown",
   "id": "DjSsgT0BlA_Y",
   "metadata": {
    "id": "DjSsgT0BlA_Y"
   },
   "source": [
    "### Train Linear Regression Models with Feature Selection under Cases 1 & 2\n",
    "* When training a machine learning model for prediction, we may need to select the most important/correlated input features for more accurate results.\n",
    "* To investigate whether feature selection affects the model performance, please select two most correlated features and two least correlated features regarding rating, respectively.\n",
    "* Train four linear regression models by following the conditions:\n",
    "    - (model-a) using the training/testing data in case 1 with two most correlated input features\n",
    "    - (model-b) using the training/testing data in case 1 with two least correlated input features\n",
    "    - (model-c) using the training/testing data in case 2 with two most correlated input features\n",
    "    - (model-d) using the training/testing data in case 2 with two least correlated input features\n",
    "* By doing this, we can verify the impacts of the size of traing/testing data on the model performance via comparing model-a and model-c (or model-b and model-d); meanwhile the impacts of feature selection can be validated via comparing model-a and model-b (or model-c and model-d).    "
   ]
  },
  {
   "cell_type": "code",
   "execution_count": 72,
   "id": "DASzPUATlA_Z",
   "metadata": {
    "id": "DASzPUATlA_Z"
   },
   "outputs": [
    {
     "name": "stdout",
     "output_type": "stream",
     "text": [
      "2 most correlated features with rating are: category_numeric(0.163158) and review_numeric(0.036118.\n",
      "2 least correlated features with rating are: helpfulness(0.007523), and gender_numeric(0.034337).\n"
     ]
    }
   ],
   "source": [
    "print('2 most correlated features with rating are: category_numeric(0.163158) and review_numeric(0.036118.')\n",
    "print('2 least correlated features with rating are: helpfulness(0.007523), and gender_numeric(0.034337).')"
   ]
  },
  {
   "cell_type": "code",
   "execution_count": 3,
   "id": "bb7191d7",
   "metadata": {},
   "outputs": [],
   "source": [
    "from sklearn import linear_model  #This will be used to train the data"
   ]
  },
  {
   "cell_type": "code",
   "execution_count": 6,
   "id": "922788b9",
   "metadata": {},
   "outputs": [
    {
     "ename": "KeyError",
     "evalue": "\"None of [Index(['category_numeric', 'review_numeric'], dtype='object')] are in the [columns]\"",
     "output_type": "error",
     "traceback": [
      "\u001b[1;31m---------------------------------------------------------------------------\u001b[0m",
      "\u001b[1;31mKeyError\u001b[0m                                  Traceback (most recent call last)",
      "Cell \u001b[1;32mIn[6], line 3\u001b[0m\n\u001b[0;32m      1\u001b[0m \u001b[38;5;66;03m#model a\u001b[39;00m\n\u001b[0;32m      2\u001b[0m ecomTrainedA\u001b[38;5;241m=\u001b[39mlinear_model\u001b[38;5;241m.\u001b[39mLinearRegression()\n\u001b[1;32m----> 3\u001b[0m X_train_a\u001b[38;5;241m=\u001b[39mtrain1[[\u001b[38;5;124m'\u001b[39m\u001b[38;5;124mcategory_numeric\u001b[39m\u001b[38;5;124m'\u001b[39m, \u001b[38;5;124m'\u001b[39m\u001b[38;5;124mreview_numeric\u001b[39m\u001b[38;5;124m'\u001b[39m]]\n\u001b[0;32m      4\u001b[0m y_train_a\u001b[38;5;241m=\u001b[39mtrain1[[\u001b[38;5;124m'\u001b[39m\u001b[38;5;124mrating\u001b[39m\u001b[38;5;124m'\u001b[39m]]\n\u001b[0;32m      6\u001b[0m ecomTrainedA\u001b[38;5;241m.\u001b[39mfit(X_train_a, y_train_a)\n",
      "File \u001b[1;32m~\\anaconda3\\Lib\\site-packages\\pandas\\core\\frame.py:3813\u001b[0m, in \u001b[0;36mDataFrame.__getitem__\u001b[1;34m(self, key)\u001b[0m\n\u001b[0;32m   3811\u001b[0m     \u001b[38;5;28;01mif\u001b[39;00m is_iterator(key):\n\u001b[0;32m   3812\u001b[0m         key \u001b[38;5;241m=\u001b[39m \u001b[38;5;28mlist\u001b[39m(key)\n\u001b[1;32m-> 3813\u001b[0m     indexer \u001b[38;5;241m=\u001b[39m \u001b[38;5;28mself\u001b[39m\u001b[38;5;241m.\u001b[39mcolumns\u001b[38;5;241m.\u001b[39m_get_indexer_strict(key, \u001b[38;5;124m\"\u001b[39m\u001b[38;5;124mcolumns\u001b[39m\u001b[38;5;124m\"\u001b[39m)[\u001b[38;5;241m1\u001b[39m]\n\u001b[0;32m   3815\u001b[0m \u001b[38;5;66;03m# take() does not accept boolean indexers\u001b[39;00m\n\u001b[0;32m   3816\u001b[0m \u001b[38;5;28;01mif\u001b[39;00m \u001b[38;5;28mgetattr\u001b[39m(indexer, \u001b[38;5;124m\"\u001b[39m\u001b[38;5;124mdtype\u001b[39m\u001b[38;5;124m\"\u001b[39m, \u001b[38;5;28;01mNone\u001b[39;00m) \u001b[38;5;241m==\u001b[39m \u001b[38;5;28mbool\u001b[39m:\n",
      "File \u001b[1;32m~\\anaconda3\\Lib\\site-packages\\pandas\\core\\indexes\\base.py:6070\u001b[0m, in \u001b[0;36mIndex._get_indexer_strict\u001b[1;34m(self, key, axis_name)\u001b[0m\n\u001b[0;32m   6067\u001b[0m \u001b[38;5;28;01melse\u001b[39;00m:\n\u001b[0;32m   6068\u001b[0m     keyarr, indexer, new_indexer \u001b[38;5;241m=\u001b[39m \u001b[38;5;28mself\u001b[39m\u001b[38;5;241m.\u001b[39m_reindex_non_unique(keyarr)\n\u001b[1;32m-> 6070\u001b[0m \u001b[38;5;28mself\u001b[39m\u001b[38;5;241m.\u001b[39m_raise_if_missing(keyarr, indexer, axis_name)\n\u001b[0;32m   6072\u001b[0m keyarr \u001b[38;5;241m=\u001b[39m \u001b[38;5;28mself\u001b[39m\u001b[38;5;241m.\u001b[39mtake(indexer)\n\u001b[0;32m   6073\u001b[0m \u001b[38;5;28;01mif\u001b[39;00m \u001b[38;5;28misinstance\u001b[39m(key, Index):\n\u001b[0;32m   6074\u001b[0m     \u001b[38;5;66;03m# GH 42790 - Preserve name from an Index\u001b[39;00m\n",
      "File \u001b[1;32m~\\anaconda3\\Lib\\site-packages\\pandas\\core\\indexes\\base.py:6130\u001b[0m, in \u001b[0;36mIndex._raise_if_missing\u001b[1;34m(self, key, indexer, axis_name)\u001b[0m\n\u001b[0;32m   6128\u001b[0m     \u001b[38;5;28;01mif\u001b[39;00m use_interval_msg:\n\u001b[0;32m   6129\u001b[0m         key \u001b[38;5;241m=\u001b[39m \u001b[38;5;28mlist\u001b[39m(key)\n\u001b[1;32m-> 6130\u001b[0m     \u001b[38;5;28;01mraise\u001b[39;00m \u001b[38;5;167;01mKeyError\u001b[39;00m(\u001b[38;5;124mf\u001b[39m\u001b[38;5;124m\"\u001b[39m\u001b[38;5;124mNone of [\u001b[39m\u001b[38;5;132;01m{\u001b[39;00mkey\u001b[38;5;132;01m}\u001b[39;00m\u001b[38;5;124m] are in the [\u001b[39m\u001b[38;5;132;01m{\u001b[39;00maxis_name\u001b[38;5;132;01m}\u001b[39;00m\u001b[38;5;124m]\u001b[39m\u001b[38;5;124m\"\u001b[39m)\n\u001b[0;32m   6132\u001b[0m not_found \u001b[38;5;241m=\u001b[39m \u001b[38;5;28mlist\u001b[39m(ensure_index(key)[missing_mask\u001b[38;5;241m.\u001b[39mnonzero()[\u001b[38;5;241m0\u001b[39m]]\u001b[38;5;241m.\u001b[39munique())\n\u001b[0;32m   6133\u001b[0m \u001b[38;5;28;01mraise\u001b[39;00m \u001b[38;5;167;01mKeyError\u001b[39;00m(\u001b[38;5;124mf\u001b[39m\u001b[38;5;124m\"\u001b[39m\u001b[38;5;132;01m{\u001b[39;00mnot_found\u001b[38;5;132;01m}\u001b[39;00m\u001b[38;5;124m not in index\u001b[39m\u001b[38;5;124m\"\u001b[39m)\n",
      "\u001b[1;31mKeyError\u001b[0m: \"None of [Index(['category_numeric', 'review_numeric'], dtype='object')] are in the [columns]\""
     ]
    }
   ],
   "source": [
    "#model a\n",
    "ecomTrainedA=linear_model.LinearRegression()\n",
    "X_train_a=train1[['category_numeric', 'review_numeric']]\n",
    "y_train_a=train1[['rating']]\n",
    "\n",
    "ecomTrainedA.fit(X_train_a, y_train_a)"
   ]
  },
  {
   "cell_type": "code",
   "execution_count": null,
   "id": "cb73de44",
   "metadata": {},
   "outputs": [],
   "source": [
    "#model b\n",
    "ecomTrainedB=linear_model.LinearRegression()\n",
    "X_train_b=train1[['helpfulness', 'gender_numeric']]\n",
    "y_train_b=train1[['rating']]\n",
    "\n",
    "ecomTrainedB.fit(X_train_b, y_train_b)"
   ]
  },
  {
   "cell_type": "code",
   "execution_count": null,
   "id": "4e013eb4",
   "metadata": {},
   "outputs": [],
   "source": [
    "#model c\n",
    "ecomTrainedC=linear_model.LinearRegression()\n",
    "X_train_c=train2[['category_numeric', 'review_numeric']]\n",
    "y_train_c=train2[['rating']]\n",
    "\n",
    "ecomTrainedC.fit(X_train_c, y_train_c)"
   ]
  },
  {
   "cell_type": "code",
   "execution_count": null,
   "id": "d84bb055",
   "metadata": {},
   "outputs": [],
   "source": [
    "#model d\n",
    "ecomTrainedD=linear_model.LinearRegression()\n",
    "X_train_d=train2[['helpfulness', 'gender_numeric']]\n",
    "y_train_d=train2[['rating']]\n",
    "\n",
    "ecomTrainedD.fit(X_train_d, y_train_d)"
   ]
  },
  {
   "cell_type": "markdown",
   "id": "KATSn7hYlA_Z",
   "metadata": {
    "id": "KATSn7hYlA_Z"
   },
   "source": [
    "### Evaluate Models\n",
    "* Evaluate the performance of the four models with two metrics, including MSE and Root MSE\n",
    "* Print the results of the four models regarding the two metrics"
   ]
  },
  {
   "cell_type": "code",
   "execution_count": 78,
   "id": "4fU8GPS9lA_Z",
   "metadata": {
    "id": "4fU8GPS9lA_Z"
   },
   "outputs": [],
   "source": [
    "#To evaluate the ecommerce data's performance, we need to test the data\n",
    "#Testing Model a\n",
    "X_test_a=test1[['category_numeric', 'review_numeric']]\n",
    "y_test_a=test1[['rating']]"
   ]
  },
  {
   "cell_type": "code",
   "execution_count": 79,
   "id": "83424889",
   "metadata": {},
   "outputs": [],
   "source": [
    "#Model b\n",
    "X_test_b=test1[['helpfulness', 'gender_numeric']]\n",
    "y_test_b=test1[['rating']]"
   ]
  },
  {
   "cell_type": "code",
   "execution_count": 80,
   "id": "f9ed3414",
   "metadata": {},
   "outputs": [],
   "source": [
    "#Model c\n",
    "X_test_c=test2[['category_numeric', 'review_numeric']]\n",
    "y_test_c=test2[['rating']]"
   ]
  },
  {
   "cell_type": "code",
   "execution_count": 81,
   "id": "9f2781c8",
   "metadata": {},
   "outputs": [],
   "source": [
    "#Model d\n",
    "X_test_d=test2[['helpfulness', 'gender_numeric']]\n",
    "y_test_d=test2[['rating']]"
   ]
  },
  {
   "cell_type": "code",
   "execution_count": 82,
   "id": "0ca7cbef",
   "metadata": {},
   "outputs": [
    {
     "name": "stdout",
     "output_type": "stream",
     "text": [
      "a_MSE: 1.7690740179517055\n",
      "a_Root_MSE: 1.3300654186737229\n",
      "a_R_Squared: 0.020578145218415278\n"
     ]
    }
   ],
   "source": [
    "#Printing results \n",
    "#a\n",
    "import numpy as np\n",
    "from sklearn.metrics import r2_score\n",
    "\n",
    "ecom_predicted_a=ecomTrainedA.predict(X_test_a)\n",
    "a_mse=((np.array(y_test_a)-ecom_predicted_a)**2).sum()/len(y_test_a)\n",
    "a_r2=r2_score(y_test_a, ecom_predicted_a)\n",
    "print(\"a_MSE:\",a_mse)\n",
    "print(\"a_Root_MSE:\", np.sqrt(a_mse))\n",
    "print(\"a_R_Squared:\", a_r2)"
   ]
  },
  {
   "cell_type": "code",
   "execution_count": 83,
   "id": "86ef3ed4",
   "metadata": {},
   "outputs": [
    {
     "name": "stdout",
     "output_type": "stream",
     "text": [
      "b_MSE: 1.8412549895856636\n",
      "b_Root_MSE: 1.356928513071217\n",
      "b_R_Squared: -0.019383789895821568\n"
     ]
    }
   ],
   "source": [
    "#b\n",
    "\n",
    "ecom_predicted_b=ecomTrainedB.predict(X_test_b)\n",
    "b_mse=((np.array(y_test_b)-ecom_predicted_b)**2).sum()/len(y_test_b)\n",
    "b_r2=r2_score(y_test_b, ecom_predicted_b)\n",
    "print(\"b_MSE:\",b_mse)\n",
    "print(\"b_Root_MSE:\", np.sqrt(b_mse))\n",
    "print(\"b_R_Squared:\", b_r2)"
   ]
  },
  {
   "cell_type": "code",
   "execution_count": 84,
   "id": "3dc58fb3",
   "metadata": {},
   "outputs": [
    {
     "name": "stdout",
     "output_type": "stream",
     "text": [
      "c_MSE: 1.758897535980505\n",
      "c_Root_MSE: 1.3262343442923294\n",
      "c_R_Squared: 0.022040319944943154\n"
     ]
    }
   ],
   "source": [
    "#c\n",
    "\n",
    "ecom_predicted_c=ecomTrainedC.predict(X_test_c)\n",
    "c_mse=((np.array(y_test_c)-ecom_predicted_c)**2).sum()/len(y_test_c)\n",
    "c_r2=r2_score(y_test_c, ecom_predicted_c)\n",
    "print(\"c_MSE:\",c_mse)\n",
    "print(\"c_Root_MSE:\", np.sqrt(c_mse))\n",
    "print(\"c_R_Squared:\", c_r2)"
   ]
  },
  {
   "cell_type": "code",
   "execution_count": 85,
   "id": "0799c32a",
   "metadata": {},
   "outputs": [
    {
     "name": "stdout",
     "output_type": "stream",
     "text": [
      "d_MSE: 1.8109460127732366\n",
      "d_Root_MSE: 1.3457139416581954\n",
      "d_R_Squared: -0.006899007486201203\n"
     ]
    }
   ],
   "source": [
    "#d\n",
    "\n",
    "ecom_predicted_d=ecomTrainedD.predict(X_test_d)\n",
    "d_mse=((np.array(y_test_d)-ecom_predicted_d)**2).sum()/len(y_test_d)\n",
    "d_r2=r2_score(y_test_d, ecom_predicted_d)\n",
    "print(\"d_MSE:\",d_mse)\n",
    "print(\"d_Root_MSE:\", np.sqrt(d_mse))\n",
    "print(\"d_R_Squared:\", d_r2)"
   ]
  },
  {
   "cell_type": "code",
   "execution_count": 87,
   "id": "3TNAIGDilA_a",
   "metadata": {
    "id": "3TNAIGDilA_a"
   },
   "outputs": [
    {
     "data": {
      "image/png": "[encoded data removed]",
      "text/plain": [
       "<Figure size 640x480 with 1 Axes>"
      ]
     },
     "metadata": {},
     "output_type": "display_data"
    }
   ],
   "source": [
    "import seaborn as sns\n",
    "import matplotlib.pyplot as plt\n",
    "models = ['Model a', 'Model b', 'Model c', 'Model d']\n",
    "values=[a_mse,b_mse,c_mse,d_mse]\n",
    "mse_plot=pd.DataFrame({\n",
    "    'Model': models,\n",
    "    'Value': values\n",
    "})\n",
    "\n",
    "sns.barplot(x='Model', y='Value', data=mse_plot)\n",
    "\n",
    "plt.title('MSE Comparison of Different Models')\n",
    "plt.xlabel('Models')\n",
    "plt.ylabel('Value')\n",
    "\n",
    "plt.show()"
   ]
  },
  {
   "cell_type": "code",
   "execution_count": 90,
   "id": "e5a14d1c",
   "metadata": {},
   "outputs": [
    {
     "data": {
      "image/png": "[encoded data removed]",
      "text/plain": [
       "<Figure size 640x480 with 1 Axes>"
      ]
     },
     "metadata": {},
     "output_type": "display_data"
    }
   ],
   "source": [
    "models = ['Model a', 'Model b', 'Model c', 'Model d']\n",
    "values=[np.sqrt(a_mse),np.sqrt(b_mse),np.sqrt(c_mse),np.sqrt(d_mse)]\n",
    "root_mse_plot=pd.DataFrame({\n",
    "    'Model': models,\n",
    "    'Value': values\n",
    "})\n",
    "\n",
    "sns.barplot(x='Model', y='Value', data=root_mse_plot)\n",
    "\n",
    "plt.title('Root MSE Comparison of Different Models')\n",
    "plt.xlabel('Models')\n",
    "plt.ylabel('Value')\n",
    "\n",
    "plt.show()"
   ]
  },
  {
   "cell_type": "code",
   "execution_count": 91,
   "id": "94fc5dc3",
   "metadata": {},
   "outputs": [
    {
     "data": {
      "image/png": "[encoded data removed]",
      "text/plain": [
       "<Figure size 640x480 with 1 Axes>"
      ]
     },
     "metadata": {},
     "output_type": "display_data"
    }
   ],
   "source": [
    "models = ['Model a', 'Model b', 'Model c', 'Model d']\n",
    "values=[a_r2,b_r2,c_r2,d_r2]\n",
    "r_squared_plot=pd.DataFrame({\n",
    "    'Model': models,\n",
    "    'Value': values\n",
    "})\n",
    "\n",
    "sns.barplot(x='Model', y='Value', data=r_squared_plot)\n",
    "\n",
    "plt.title('R squared Comparison of Different Models')\n",
    "plt.xlabel('Models')\n",
    "plt.ylabel('Value')\n",
    "\n",
    "plt.show()"
   ]
  },
  {
   "cell_type": "code",
   "execution_count": null,
   "id": "72f6fa79",
   "metadata": {},
   "outputs": [],
   "source": []
  }
 ],
 "metadata": {
  "colab": {
   "provenance": []
  },
  "kernelspec": {
   "display_name": "Python 3 (ipykernel)",
   "language": "python",
   "name": "python3"
  },
  "language_info": {
   "codemirror_mode": {
    "name": "ipython",
    "version": 3
   },
   "file_extension": ".py",
   "mimetype": "text/x-python",
   "name": "python",
   "nbconvert_exporter": "python",
   "pygments_lexer": "ipython3",
   "version": "3.11.4"
  }
 },
 "nbformat": 4,
 "nbformat_minor": 5
}
