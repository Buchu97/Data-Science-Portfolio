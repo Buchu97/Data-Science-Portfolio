{
 "cells": [
  {
   "cell_type": "markdown",
   "id": "Z88FfJc9lA_T",
   "metadata": {
    "id": "Z88FfJc9lA_T"
   },
   "source": [
    "## Analysis of an E-commerce Dataset Part 3 (s2 2023)"
   ]
  },
  {
   "cell_type": "markdown",
   "id": "hoq0NwA9lA_V",
   "metadata": {
    "id": "hoq0NwA9lA_V"
   },
   "source": [
    "\n",
    "In this Portfolio task, you will continue working with the dataset you have used in portfolio 2. But the difference is that the ratings have been converted to like (with score 1) and dislike (with score 0). Your task is to train classification models such as KNN to predict whether a user like or dislike an item.  \n",
    "\n",
    "\n",
    "The header of the csv file is shown below. \n",
    "\n",
    "| userId | timestamp | review | item | helpfulness | gender | category | item_id | item_price | user_city | rating |\n",
    "    | ---- | ---- | ---- | ---- | ---- | ---- | ---- | ---- | ---- | ---- | ---- |\n",
    "    \n",
    "Your high level goal in this notebook is to try to build and evaluate predictive models for 'rating' from other available features - predict the value of the like (corresponding to rating 1) and dislike (corresponding to rating 0) in the data from some of the other fields. More specifically, you need to complete the following major steps: \n",
    "1) Explore the data. Clean the data if necessary. For example, remove abnormal instanaces and replace missing values.\n",
    "2) Convert object features into digit features by using an encoder\n",
    "3) Study the correlation between these features. \n",
    "4) Split the dataset and train a logistic regression model to predict 'rating' based on other features. Evaluate the accuracy of your model.\n",
    "5) Split the dataset and train a KNN model to predict 'rating' based on other features. You can set K with an ad-hoc manner in this step. Evaluate the accuracy of your model.\n",
    "6) Tune the hyper-parameter K in KNN to see how it influences the prediction performance\n",
    "\n",
    "Note 1: We did not provide any description of each step in the notebook. You should learn how to properly comment your notebook by yourself to make your notebook file readable. \n",
    "\n",
    "Note 2: you are not being evaluated on the ___accuracy___ of the model but on the ___process___ that you use to generate it. Please use both ___Logistic Regression model___ and ___KNN model___ for solving this classification problem. Accordingly, discuss the performance of these two methods.\n",
    "    "
   ]
  },
  {
   "cell_type": "markdown",
   "id": "9463f8df",
   "metadata": {},
   "source": [
    "### Student Name : Budhil Chakma\n",
    "### Student ID : 47554266"
   ]
  },
  {
   "cell_type": "code",
   "execution_count": 11,
   "id": "916c92e2",
   "metadata": {},
   "outputs": [],
   "source": [
    "import pandas as pd\n",
    "from sklearn.preprocessing import OrdinalEncoder"
   ]
  },
  {
   "cell_type": "markdown",
   "id": "ff35b083",
   "metadata": {},
   "source": [
    "## Exploring the dataset"
   ]
  },
  {
   "cell_type": "code",
   "execution_count": 2,
   "id": "7b33232b",
   "metadata": {},
   "outputs": [],
   "source": [
    "#reading the dataset\n",
    "dataset_read = pd.read_csv('portfolio_3.csv')"
   ]
  },
  {
   "cell_type": "code",
   "execution_count": 4,
   "id": "2ce736e4",
   "metadata": {},
   "outputs": [
    {
     "data": {
      "text/html": [
       "<div>\n",
       "<style scoped>\n",
       "    .dataframe tbody tr th:only-of-type {\n",
       "        vertical-align: middle;\n",
       "    }\n",
       "\n",
       "    .dataframe tbody tr th {\n",
       "        vertical-align: top;\n",
       "    }\n",
       "\n",
       "    .dataframe thead th {\n",
       "        text-align: right;\n",
       "    }\n",
       "</style>\n",
       "<table border=\"1\" class=\"dataframe\">\n",
       "  <thead>\n",
       "    <tr style=\"text-align: right;\">\n",
       "      <th></th>\n",
       "      <th>userId</th>\n",
       "      <th>timestamp</th>\n",
       "      <th>review</th>\n",
       "      <th>item</th>\n",
       "      <th>helpfulness</th>\n",
       "      <th>gender</th>\n",
       "      <th>category</th>\n",
       "      <th>item_id</th>\n",
       "      <th>item_price</th>\n",
       "      <th>user_city</th>\n",
       "      <th>rating</th>\n",
       "    </tr>\n",
       "  </thead>\n",
       "  <tbody>\n",
       "    <tr>\n",
       "      <th>0</th>\n",
       "      <td>4081</td>\n",
       "      <td>71900</td>\n",
       "      <td>Not always McCrap</td>\n",
       "      <td>McDonald's</td>\n",
       "      <td>3</td>\n",
       "      <td>M</td>\n",
       "      <td>Restaurants &amp; Gourmet</td>\n",
       "      <td>41</td>\n",
       "      <td>30.74</td>\n",
       "      <td>4</td>\n",
       "      <td>1</td>\n",
       "    </tr>\n",
       "    <tr>\n",
       "      <th>1</th>\n",
       "      <td>4081</td>\n",
       "      <td>72000</td>\n",
       "      <td>I dropped the chalupa even before he told me to</td>\n",
       "      <td>Taco Bell</td>\n",
       "      <td>4</td>\n",
       "      <td>M</td>\n",
       "      <td>Restaurants &amp; Gourmet</td>\n",
       "      <td>74</td>\n",
       "      <td>108.30</td>\n",
       "      <td>4</td>\n",
       "      <td>0</td>\n",
       "    </tr>\n",
       "    <tr>\n",
       "      <th>2</th>\n",
       "      <td>4081</td>\n",
       "      <td>72000</td>\n",
       "      <td>The Wonderful World of Wendy</td>\n",
       "      <td>Wendy's</td>\n",
       "      <td>4</td>\n",
       "      <td>M</td>\n",
       "      <td>Restaurants &amp; Gourmet</td>\n",
       "      <td>84</td>\n",
       "      <td>69.00</td>\n",
       "      <td>4</td>\n",
       "      <td>1</td>\n",
       "    </tr>\n",
       "    <tr>\n",
       "      <th>3</th>\n",
       "      <td>4081</td>\n",
       "      <td>100399</td>\n",
       "      <td>They actually did it</td>\n",
       "      <td>South Park: Bigger, Longer &amp; Uncut</td>\n",
       "      <td>3</td>\n",
       "      <td>M</td>\n",
       "      <td>Movies</td>\n",
       "      <td>68</td>\n",
       "      <td>143.11</td>\n",
       "      <td>4</td>\n",
       "      <td>1</td>\n",
       "    </tr>\n",
       "    <tr>\n",
       "      <th>4</th>\n",
       "      <td>4081</td>\n",
       "      <td>100399</td>\n",
       "      <td>Hey! Gimme some pie!</td>\n",
       "      <td>American Pie</td>\n",
       "      <td>3</td>\n",
       "      <td>M</td>\n",
       "      <td>Movies</td>\n",
       "      <td>6</td>\n",
       "      <td>117.89</td>\n",
       "      <td>4</td>\n",
       "      <td>0</td>\n",
       "    </tr>\n",
       "  </tbody>\n",
       "</table>\n",
       "</div>"
      ],
      "text/plain": [
       "   userId  timestamp                                           review  \\\n",
       "0    4081      71900                                Not always McCrap   \n",
       "1    4081      72000  I dropped the chalupa even before he told me to   \n",
       "2    4081      72000                     The Wonderful World of Wendy   \n",
       "3    4081     100399                             They actually did it   \n",
       "4    4081     100399                             Hey! Gimme some pie!   \n",
       "\n",
       "                                 item  helpfulness gender  \\\n",
       "0                          McDonald's            3      M   \n",
       "1                           Taco Bell            4      M   \n",
       "2                             Wendy's            4      M   \n",
       "3  South Park: Bigger, Longer & Uncut            3      M   \n",
       "4                        American Pie            3      M   \n",
       "\n",
       "                category  item_id  item_price  user_city  rating  \n",
       "0  Restaurants & Gourmet       41       30.74          4       1  \n",
       "1  Restaurants & Gourmet       74      108.30          4       0  \n",
       "2  Restaurants & Gourmet       84       69.00          4       1  \n",
       "3                 Movies       68      143.11          4       1  \n",
       "4                 Movies        6      117.89          4       0  "
      ]
     },
     "execution_count": 4,
     "metadata": {},
     "output_type": "execute_result"
    }
   ],
   "source": [
    "dataset_read.head()"
   ]
  },
  {
   "cell_type": "code",
   "execution_count": 5,
   "id": "7243d046",
   "metadata": {},
   "outputs": [
    {
     "name": "stdout",
     "output_type": "stream",
     "text": [
      "<class 'pandas.core.frame.DataFrame'>\n",
      "RangeIndex: 2685 entries, 0 to 2684\n",
      "Data columns (total 11 columns):\n",
      " #   Column       Non-Null Count  Dtype  \n",
      "---  ------       --------------  -----  \n",
      " 0   userId       2685 non-null   int64  \n",
      " 1   timestamp    2685 non-null   int64  \n",
      " 2   review       2685 non-null   object \n",
      " 3   item         2685 non-null   object \n",
      " 4   helpfulness  2685 non-null   int64  \n",
      " 5   gender       2685 non-null   object \n",
      " 6   category     2685 non-null   object \n",
      " 7   item_id      2685 non-null   int64  \n",
      " 8   item_price   2685 non-null   float64\n",
      " 9   user_city    2685 non-null   int64  \n",
      " 10  rating       2685 non-null   int64  \n",
      "dtypes: float64(1), int64(6), object(4)\n",
      "memory usage: 230.9+ KB\n"
     ]
    }
   ],
   "source": [
    "dataset_read.info()"
   ]
  },
  {
   "cell_type": "code",
   "execution_count": 6,
   "id": "fdf2ba71",
   "metadata": {},
   "outputs": [
    {
     "data": {
      "text/plain": [
       "2685"
      ]
     },
     "execution_count": 6,
     "metadata": {},
     "output_type": "execute_result"
    }
   ],
   "source": [
    "dataset_read.shape[0]"
   ]
  },
  {
   "cell_type": "code",
   "execution_count": 7,
   "id": "34bb7206",
   "metadata": {},
   "outputs": [
    {
     "data": {
      "text/plain": [
       "11"
      ]
     },
     "execution_count": 7,
     "metadata": {},
     "output_type": "execute_result"
    }
   ],
   "source": [
    "dataset_read.shape[1]"
   ]
  },
  {
   "cell_type": "code",
   "execution_count": 8,
   "id": "65491a4b",
   "metadata": {},
   "outputs": [
    {
     "data": {
      "text/plain": [
       "Index(['userId', 'timestamp', 'review', 'item', 'helpfulness', 'gender',\n",
       "       'category', 'item_id', 'item_price', 'user_city', 'rating'],\n",
       "      dtype='object')"
      ]
     },
     "execution_count": 8,
     "metadata": {},
     "output_type": "execute_result"
    }
   ],
   "source": [
    "dataset_read.columns"
   ]
  },
  {
   "cell_type": "markdown",
   "id": "737178af",
   "metadata": {},
   "source": [
    "## Converting object features into numeric values"
   ]
  },
  {
   "cell_type": "code",
   "execution_count": 12,
   "id": "e4c55cd0",
   "metadata": {},
   "outputs": [],
   "source": [
    "#converting categorical features into numerial version\n",
    "\n",
    "datasetNumeric = OrdinalEncoder()\n",
    "dataset_read[\"review_num\"]= datasetNumeric.fit_transform(dataset_read[[\"review\"]])\n",
    "dataset_read[\"category_num\"]= datasetNumeric.fit_transform(dataset_read[[\"category\"]])\n",
    "dataset_read[\"gender_num\"]= datasetNumeric.fit_transform(dataset_read[[\"gender\"]])\n",
    "dataset_read[\"item_num\"]= datasetNumeric.fit_transform(dataset_read[[\"item\"]])"
   ]
  },
  {
   "cell_type": "markdown",
   "id": "d0aac55e",
   "metadata": {},
   "source": [
    "## Observing the correlation between ratings and other features"
   ]
  },
  {
   "cell_type": "code",
   "execution_count": 48,
   "id": "9f9b3b0c",
   "metadata": {},
   "outputs": [],
   "source": [
    "# droping null values (if any)\n",
    "dataset_read = dataset_read.dropna()"
   ]
  },
  {
   "cell_type": "code",
   "execution_count": 15,
   "id": "6772df90",
   "metadata": {},
   "outputs": [
    {
     "name": "stderr",
     "output_type": "stream",
     "text": [
      "C:\\Users\\Budhil\\AppData\\Local\\Temp\\ipykernel_15112\\4164624592.py:1: FutureWarning: The default value of numeric_only in DataFrame.corr is deprecated. In a future version, it will default to False. Select only valid columns or specify the value of numeric_only to silence this warning.\n",
      "  dataset_read.corr()\n"
     ]
    },
    {
     "data": {
      "text/html": [
       "<div>\n",
       "<style scoped>\n",
       "    .dataframe tbody tr th:only-of-type {\n",
       "        vertical-align: middle;\n",
       "    }\n",
       "\n",
       "    .dataframe tbody tr th {\n",
       "        vertical-align: top;\n",
       "    }\n",
       "\n",
       "    .dataframe thead th {\n",
       "        text-align: right;\n",
       "    }\n",
       "</style>\n",
       "<table border=\"1\" class=\"dataframe\">\n",
       "  <thead>\n",
       "    <tr style=\"text-align: right;\">\n",
       "      <th></th>\n",
       "      <th>userId</th>\n",
       "      <th>timestamp</th>\n",
       "      <th>helpfulness</th>\n",
       "      <th>item_id</th>\n",
       "      <th>item_price</th>\n",
       "      <th>user_city</th>\n",
       "      <th>rating</th>\n",
       "      <th>review_num</th>\n",
       "      <th>category_num</th>\n",
       "      <th>gender_num</th>\n",
       "      <th>item_num</th>\n",
       "    </tr>\n",
       "  </thead>\n",
       "  <tbody>\n",
       "    <tr>\n",
       "      <th>userId</th>\n",
       "      <td>1.000000</td>\n",
       "      <td>-0.069176</td>\n",
       "      <td>-0.166136</td>\n",
       "      <td>-0.005549</td>\n",
       "      <td>0.024576</td>\n",
       "      <td>-0.030031</td>\n",
       "      <td>0.066444</td>\n",
       "      <td>0.007139</td>\n",
       "      <td>-0.041362</td>\n",
       "      <td>-0.058324</td>\n",
       "      <td>-0.005513</td>\n",
       "    </tr>\n",
       "    <tr>\n",
       "      <th>timestamp</th>\n",
       "      <td>-0.069176</td>\n",
       "      <td>1.000000</td>\n",
       "      <td>0.014179</td>\n",
       "      <td>-0.004452</td>\n",
       "      <td>0.010979</td>\n",
       "      <td>-0.014934</td>\n",
       "      <td>-0.009739</td>\n",
       "      <td>0.007029</td>\n",
       "      <td>0.015009</td>\n",
       "      <td>-0.003367</td>\n",
       "      <td>-0.003543</td>\n",
       "    </tr>\n",
       "    <tr>\n",
       "      <th>helpfulness</th>\n",
       "      <td>-0.166136</td>\n",
       "      <td>0.014179</td>\n",
       "      <td>1.000000</td>\n",
       "      <td>-0.019882</td>\n",
       "      <td>0.004112</td>\n",
       "      <td>0.012086</td>\n",
       "      <td>-0.010622</td>\n",
       "      <td>-0.028259</td>\n",
       "      <td>-0.013408</td>\n",
       "      <td>0.075947</td>\n",
       "      <td>-0.020433</td>\n",
       "    </tr>\n",
       "    <tr>\n",
       "      <th>item_id</th>\n",
       "      <td>-0.005549</td>\n",
       "      <td>-0.004452</td>\n",
       "      <td>-0.019882</td>\n",
       "      <td>1.000000</td>\n",
       "      <td>-0.054450</td>\n",
       "      <td>-0.005576</td>\n",
       "      <td>0.057107</td>\n",
       "      <td>0.163544</td>\n",
       "      <td>-0.045268</td>\n",
       "      <td>0.002370</td>\n",
       "      <td>0.999765</td>\n",
       "    </tr>\n",
       "    <tr>\n",
       "      <th>item_price</th>\n",
       "      <td>0.024576</td>\n",
       "      <td>0.010979</td>\n",
       "      <td>0.004112</td>\n",
       "      <td>-0.054450</td>\n",
       "      <td>1.000000</td>\n",
       "      <td>-0.023427</td>\n",
       "      <td>0.026062</td>\n",
       "      <td>-0.041421</td>\n",
       "      <td>-0.115571</td>\n",
       "      <td>-0.040596</td>\n",
       "      <td>-0.049885</td>\n",
       "    </tr>\n",
       "    <tr>\n",
       "      <th>user_city</th>\n",
       "      <td>-0.030031</td>\n",
       "      <td>-0.014934</td>\n",
       "      <td>0.012086</td>\n",
       "      <td>-0.005576</td>\n",
       "      <td>-0.023427</td>\n",
       "      <td>1.000000</td>\n",
       "      <td>-0.034866</td>\n",
       "      <td>0.045626</td>\n",
       "      <td>0.008017</td>\n",
       "      <td>-0.065638</td>\n",
       "      <td>-0.005220</td>\n",
       "    </tr>\n",
       "    <tr>\n",
       "      <th>rating</th>\n",
       "      <td>0.066444</td>\n",
       "      <td>-0.009739</td>\n",
       "      <td>-0.010622</td>\n",
       "      <td>0.057107</td>\n",
       "      <td>0.026062</td>\n",
       "      <td>-0.034866</td>\n",
       "      <td>1.000000</td>\n",
       "      <td>-0.041756</td>\n",
       "      <td>-0.142479</td>\n",
       "      <td>-0.022169</td>\n",
       "      <td>0.057793</td>\n",
       "    </tr>\n",
       "    <tr>\n",
       "      <th>review_num</th>\n",
       "      <td>0.007139</td>\n",
       "      <td>0.007029</td>\n",
       "      <td>-0.028259</td>\n",
       "      <td>0.163544</td>\n",
       "      <td>-0.041421</td>\n",
       "      <td>0.045626</td>\n",
       "      <td>-0.041756</td>\n",
       "      <td>1.000000</td>\n",
       "      <td>0.001970</td>\n",
       "      <td>-0.037884</td>\n",
       "      <td>0.163090</td>\n",
       "    </tr>\n",
       "    <tr>\n",
       "      <th>category_num</th>\n",
       "      <td>-0.041362</td>\n",
       "      <td>0.015009</td>\n",
       "      <td>-0.013408</td>\n",
       "      <td>-0.045268</td>\n",
       "      <td>-0.115571</td>\n",
       "      <td>0.008017</td>\n",
       "      <td>-0.142479</td>\n",
       "      <td>0.001970</td>\n",
       "      <td>1.000000</td>\n",
       "      <td>0.022549</td>\n",
       "      <td>-0.045988</td>\n",
       "    </tr>\n",
       "    <tr>\n",
       "      <th>gender_num</th>\n",
       "      <td>-0.058324</td>\n",
       "      <td>-0.003367</td>\n",
       "      <td>0.075947</td>\n",
       "      <td>0.002370</td>\n",
       "      <td>-0.040596</td>\n",
       "      <td>-0.065638</td>\n",
       "      <td>-0.022169</td>\n",
       "      <td>-0.037884</td>\n",
       "      <td>0.022549</td>\n",
       "      <td>1.000000</td>\n",
       "      <td>0.001925</td>\n",
       "    </tr>\n",
       "    <tr>\n",
       "      <th>item_num</th>\n",
       "      <td>-0.005513</td>\n",
       "      <td>-0.003543</td>\n",
       "      <td>-0.020433</td>\n",
       "      <td>0.999765</td>\n",
       "      <td>-0.049885</td>\n",
       "      <td>-0.005220</td>\n",
       "      <td>0.057793</td>\n",
       "      <td>0.163090</td>\n",
       "      <td>-0.045988</td>\n",
       "      <td>0.001925</td>\n",
       "      <td>1.000000</td>\n",
       "    </tr>\n",
       "  </tbody>\n",
       "</table>\n",
       "</div>"
      ],
      "text/plain": [
       "                userId  timestamp  helpfulness   item_id  item_price  \\\n",
       "userId        1.000000  -0.069176    -0.166136 -0.005549    0.024576   \n",
       "timestamp    -0.069176   1.000000     0.014179 -0.004452    0.010979   \n",
       "helpfulness  -0.166136   0.014179     1.000000 -0.019882    0.004112   \n",
       "item_id      -0.005549  -0.004452    -0.019882  1.000000   -0.054450   \n",
       "item_price    0.024576   0.010979     0.004112 -0.054450    1.000000   \n",
       "user_city    -0.030031  -0.014934     0.012086 -0.005576   -0.023427   \n",
       "rating        0.066444  -0.009739    -0.010622  0.057107    0.026062   \n",
       "review_num    0.007139   0.007029    -0.028259  0.163544   -0.041421   \n",
       "category_num -0.041362   0.015009    -0.013408 -0.045268   -0.115571   \n",
       "gender_num   -0.058324  -0.003367     0.075947  0.002370   -0.040596   \n",
       "item_num     -0.005513  -0.003543    -0.020433  0.999765   -0.049885   \n",
       "\n",
       "              user_city    rating  review_num  category_num  gender_num  \\\n",
       "userId        -0.030031  0.066444    0.007139     -0.041362   -0.058324   \n",
       "timestamp     -0.014934 -0.009739    0.007029      0.015009   -0.003367   \n",
       "helpfulness    0.012086 -0.010622   -0.028259     -0.013408    0.075947   \n",
       "item_id       -0.005576  0.057107    0.163544     -0.045268    0.002370   \n",
       "item_price    -0.023427  0.026062   -0.041421     -0.115571   -0.040596   \n",
       "user_city      1.000000 -0.034866    0.045626      0.008017   -0.065638   \n",
       "rating        -0.034866  1.000000   -0.041756     -0.142479   -0.022169   \n",
       "review_num     0.045626 -0.041756    1.000000      0.001970   -0.037884   \n",
       "category_num   0.008017 -0.142479    0.001970      1.000000    0.022549   \n",
       "gender_num    -0.065638 -0.022169   -0.037884      0.022549    1.000000   \n",
       "item_num      -0.005220  0.057793    0.163090     -0.045988    0.001925   \n",
       "\n",
       "              item_num  \n",
       "userId       -0.005513  \n",
       "timestamp    -0.003543  \n",
       "helpfulness  -0.020433  \n",
       "item_id       0.999765  \n",
       "item_price   -0.049885  \n",
       "user_city    -0.005220  \n",
       "rating        0.057793  \n",
       "review_num    0.163090  \n",
       "category_num -0.045988  \n",
       "gender_num    0.001925  \n",
       "item_num      1.000000  "
      ]
     },
     "execution_count": 15,
     "metadata": {},
     "output_type": "execute_result"
    }
   ],
   "source": [
    "dataset_read.corr()"
   ]
  },
  {
   "cell_type": "markdown",
   "id": "05ab07bc",
   "metadata": {},
   "source": [
    "## Spliting the dataset and training logistic regression models and evaluating them"
   ]
  },
  {
   "cell_type": "code",
   "execution_count": 20,
   "id": "4d5a47b3",
   "metadata": {},
   "outputs": [],
   "source": [
    "from sklearn import linear_model\n",
    "from sklearn.metrics import r2_score\n",
    "from sklearn.model_selection import train_test_split\n",
    "import numpy as np"
   ]
  },
  {
   "cell_type": "code",
   "execution_count": 21,
   "id": "1dc10ce4",
   "metadata": {},
   "outputs": [
    {
     "name": "stdout",
     "output_type": "stream",
     "text": [
      "(2148, 15)\n",
      "(537, 15)\n"
     ]
    }
   ],
   "source": [
    "train, test=train_test_split(dataset_read, test_size=0.2, random_state=142)\n",
    "print(train.shape)\n",
    "print(test.shape)"
   ]
  },
  {
   "cell_type": "markdown",
   "id": "7e428b8e",
   "metadata": {},
   "source": [
    "For model 1 I have selected 5 features which are more related to the ratings then other features. "
   ]
  },
  {
   "cell_type": "code",
   "execution_count": 50,
   "id": "706313da",
   "metadata": {},
   "outputs": [
    {
     "name": "stdout",
     "output_type": "stream",
     "text": [
      "Model 1 (Using Selected Features):\n",
      "Mean Squared Error (MSE):  0.21592529937540397\n",
      "Root Mean Squared Error (Root MSE):  0.4646379286997418\n",
      "R Squared (R2): 0.025599157215957624\n"
     ]
    }
   ],
   "source": [
    "\n",
    "\n",
    "# Selecting the features and the target variable for training and testing sets\n",
    "X_train_selected = train[['userId', 'item_id', 'item_price', 'item_num', 'category_num']]\n",
    "y_train_selected = train['rating']\n",
    "\n",
    "X_test_selected = test[['userId', 'item_id', 'item_price', 'item_num', 'category_num']]\n",
    "y_test_selected = test['rating']\n",
    "\n",
    "# Initializing and training the Linear Regression model\n",
    "reg_selected = linear_model.LinearRegression()\n",
    "reg_selected.fit(X_train_selected, y_train_selected)\n",
    "\n",
    "# Making predictions on the testing set\n",
    "predicted_selected = reg_selected.predict(X_test_selected)\n",
    "\n",
    "# Calculating the Mean Squared Error, Root Mean Squared Error, and R Squared for selected features\n",
    "mse_selected_1 = ((np.array(y_test_selected) - predicted_selected)**2).sum() / len(y_test_selected)\n",
    "root_mse_selected_1 = np.sqrt(mse_selected)\n",
    "r2_selected_1 = r2_score(y_test_selected, predicted_selected)\n",
    "\n",
    "# Print statements for Model 1 (Using Selected Features)\n",
    "print(\"Model 1 (Using Selected Features):\")\n",
    "print(f\"Mean Squared Error (MSE): \", mse_selected_1 )\n",
    "print(f\"Root Mean Squared Error (Root MSE): \", root_mse_selected_1)\n",
    "print(f\"R Squared (R2):\", r2_selected_1)"
   ]
  },
  {
   "cell_type": "code",
   "execution_count": 49,
   "id": "be31b997",
   "metadata": {},
   "outputs": [
    {
     "name": "stdout",
     "output_type": "stream",
     "text": [
      "Model 2 (All Features):\n",
      "Mean Squared Error (MSE):  0.21588840478638632\n",
      "Root Mean Squared Error (Root MSE):  0.4646379286997418\n",
      "R Squared (R2): 0.02576565052978863\n"
     ]
    }
   ],
   "source": [
    "\n",
    "\n",
    "# Selecting All features and the target variable for training and testing sets\n",
    "X_train_selected = train[['userId', 'timestamp','helpfulness','item_id','item_price', 'user_city', 'review_num', 'category_num', 'gender_num', 'item_num']]\n",
    "y_train_selected = train['rating']\n",
    "\n",
    "X_test_selected = test[['userId', 'timestamp','helpfulness','item_id','item_price', 'user_city', 'review_num', 'category_num', 'gender_num', 'item_num']]\n",
    "y_test_selected = test['rating']\n",
    "\n",
    "# Initializing and training the Linear Regression model\n",
    "reg_selected = linear_model.LinearRegression()\n",
    "reg_selected.fit(X_train_selected, y_train_selected)\n",
    "\n",
    "# Making predictions on the testing set\n",
    "predicted_selected = reg_selected.predict(X_test_selected)\n",
    "\n",
    "# Calculating the Mean Squared Error, Root Mean Squared Error, and R Squared for selected features\n",
    "mse_selected_2 = ((np.array(y_test_selected) - predicted_selected)**2).sum() / len(y_test_selected)\n",
    "root_mse_selected_2 = np.sqrt(mse_selected)\n",
    "r2_selected_2 = r2_score(y_test_selected, predicted_selected)\n",
    "\n",
    "# Print statements for Model 2 (Using Selected Features)\n",
    "print(\"Model 2 (All Features):\")\n",
    "print(\"Mean Squared Error (MSE): \", mse_selected_2 )\n",
    "print(\"Root Mean Squared Error (Root MSE): \", root_mse_selected_2)\n",
    "print(\"R Squared (R2):\", r2_selected_2)"
   ]
  },
  {
   "cell_type": "markdown",
   "id": "bd6f66be",
   "metadata": {},
   "source": [
    "### Evaluation \n",
    "\n",
    "The performance metrics of the two models are very similar, with only slight differences in Mean Squared Error (MSE) and r squared score. Here are some insights and conclusions based on the comparison:\n",
    "\n",
    "#### feature Selection:\n",
    "\n",
    "The selection of specific features ('userId', 'item_id', 'item_price', 'item_num', 'category_num') did not significantly improve the model performance compared to using all available features.\n",
    "The r squared scores are quite low for both models, indicating that the selected features, as well as all features, do not explain a significant amount of variance in the target variable (rating).\n",
    "\n",
    "#### Model Performance:\n",
    "\n",
    "Both models have almost identical MSE and Root MSE, suggesting similar levels of prediction error.\n",
    "The slightly higher r squared score in Model 2 (All Features) suggests that including more features may capture a bit more variance in the target variable, but the difference is marginal.\n",
    "\n",
    "#### Conclusion:\n",
    "\n",
    "The feature selection in this case did not lead to a significant improvement in model performance. It might be beneficial to explore other feature selection methods, feature engineering, or try different machine learning models to improve the predictive performance.\n",
    "Given the low r squared scores, Linear Regression may not be the best model for this data. Other models might be better suited to capture the complex relationships between the features and the target variable.\n",
    "These observations provide a basis for further exploration and tuning to improve model performance and better understand the relationships within the data."
   ]
  },
  {
   "cell_type": "markdown",
   "id": "0c9899b2",
   "metadata": {},
   "source": [
    "## Training and evaluating KNN models on the same dataset"
   ]
  },
  {
   "cell_type": "code",
   "execution_count": 46,
   "id": "f785f8fe",
   "metadata": {},
   "outputs": [
    {
     "data": {
      "text/plain": [
       "(0.6480446927374302, 0.62756052141527)"
      ]
     },
     "execution_count": 46,
     "metadata": {},
     "output_type": "execute_result"
    }
   ],
   "source": [
    "from sklearn.neighbors import KNeighborsClassifier\n",
    "\n",
    "# Define the features and target variable for Model 1\n",
    "X_train_model1 = train[['userId', 'item_id', 'item_price', 'item_num', 'category_num']]\n",
    "y_train_model1 = train['rating']\n",
    "X_test_model1 = test[['userId', 'item_id', 'item_price', 'item_num', 'category_num']]\n",
    "y_test_model1 = test['rating']\n",
    "\n",
    "# Initialize the KNN classifier with K=5 for Model 1\n",
    "knn_model1 = KNeighborsClassifier(n_neighbors=23)\n",
    "\n",
    "# Train the KNN model for Model 1\n",
    "knn_model1.fit(X_train_model1, y_train_model1)\n",
    "\n",
    "# Evaluate the accuracy of Model 1\n",
    "accuracy_model1 = knn_model1.score(X_test_model1, y_test_model1)\n",
    "\n",
    "### Model 2: Using All Features\n",
    "\n",
    "# Define the features and target variable for Model 2\n",
    "X_train_model2 = train[['userId', 'timestamp','helpfulness','item_id','item_price', 'user_city', 'review_num', 'category_num', 'gender_num', 'item_num']]\n",
    "y_train_model2 = train['rating']\n",
    "X_test_model2 = test[['userId', 'timestamp','helpfulness','item_id','item_price', 'user_city', 'review_num', 'category_num', 'gender_num', 'item_num']]\n",
    "y_test_model2 = test['rating']\n",
    "\n",
    "# Initialize the KNN classifier with K=5 for Model 2\n",
    "knn_model2 = KNeighborsClassifier(n_neighbors=23)\n",
    "\n",
    "# Train the KNN model for Model 2\n",
    "knn_model2.fit(X_train_model2, y_train_model2)\n",
    "\n",
    "# Evaluate the accuracy of Model 2\n",
    "accuracy_model2 = knn_model2.score(X_test_model2, y_test_model2)\n",
    "\n",
    "accuracy_model1, accuracy_model2\n"
   ]
  },
  {
   "cell_type": "markdown",
   "id": "7092f41a",
   "metadata": {},
   "source": [
    "### Results:\n",
    "Model 1 Accuracy: 64.8%\n",
    "Model 2 Accuracy: 62.8%\n",
    "#### Analysis:\n",
    "\n",
    "#### Performance:\n",
    "Both models have comparable performance with an accuracy around 63% to 65%.Model 1 performs slightly better than Model 2 with about 2% higher accuracy.\n",
    "#### Selection of K:\n",
    "The chosen K=23 is the sqaure root of the test size which is 537, although, based on the further analysis of misclassification error, different value of K might be a more optimal choice.\n",
    "#### Feature Set:\n",
    "The different feature sets used in Model 1 and Model 2 have a minor impact on the accuracy. The simpler feature set in Model 1 appears to achieve slightly better performance.\n",
    "#### Further Improvements:\n",
    "The accuracy could potentially be improved by tuning the hyperparameter K further, or by using other machine learning models.\n",
    "Feature engineering, normalization of the data, and handling of categorical variables might also lead to better model performance.\n",
    "#### Conclusion:\n",
    "The provided KNN models with K=23 achieve a decent level of accuracy, but there's room for improvement. Experimentation with other K values, machine learning models, and feature engineering techniques could lead to better predictive performance."
   ]
  },
  {
   "cell_type": "markdown",
   "id": "1c9c2d20",
   "metadata": {},
   "source": [
    "## Tuning the hyper-parameter K in KNN to see how it influences the prediction performance"
   ]
  },
  {
   "cell_type": "code",
   "execution_count": 36,
   "id": "147fb2b7",
   "metadata": {},
   "outputs": [],
   "source": [
    "from sklearn.model_selection import cross_val_score\n",
    "import matplotlib.pyplot as plt\n",
    "\n"
   ]
  },
  {
   "cell_type": "code",
   "execution_count": 44,
   "id": "a93df0e7",
   "metadata": {},
   "outputs": [
    {
     "data": {
      "image/png": "[encoded data removed]",
      "text/plain": [
       "<Figure size 640x480 with 1 Axes>"
      ]
     },
     "metadata": {},
     "output_type": "display_data"
    }
   ],
   "source": [
    "k_values = range(1, 21)  # Evaluating K from 1 to 20\n",
    "cv_scores_model1 = []  # List to hold the cross-validated accuracy for each value of K\n",
    "\n",
    "for k in k_values:\n",
    "    knn = KNeighborsClassifier(n_neighbors=k)\n",
    "    scores = cross_val_score(knn, X_train_model1, y_train_model1, cv=5, scoring='accuracy')\n",
    "    cv_scores_model1.append(scores.mean())\n",
    "\n",
    "# Plotting the misclassification error versus K\n",
    "plt.figure()\n",
    "plt.plot(k_values, [1 - score for score in cv_scores_model1], marker='o')\n",
    "plt.title('Misclassification Error vs K (Model 1)')\n",
    "plt.xlabel('K')\n",
    "plt.ylabel('Misclassification Error')\n",
    "plt.show()\n"
   ]
  },
  {
   "cell_type": "code",
   "execution_count": 52,
   "id": "88c3824f",
   "metadata": {},
   "outputs": [
    {
     "data": {
      "image/png": "[encoded data removed]",
      "text/plain": [
       "<Figure size 640x480 with 1 Axes>"
      ]
     },
     "metadata": {},
     "output_type": "display_data"
    }
   ],
   "source": [
    "cv_scores_model2 = []  # List to hold the cross-validated accuracy for each value of K\n",
    "\n",
    "for k in k_values:\n",
    "    knn = KNeighborsClassifier(n_neighbors=k)\n",
    "    scores = cross_val_score(knn, X_train_model2, y_train_model2, cv=5, scoring='accuracy')\n",
    "    cv_scores_model2.append(scores.mean())\n",
    "\n",
    "# Plotting the misclassification error versus K\n",
    "plt.figure()\n",
    "plt.plot(k_values, [1 - score for score in cv_scores_model2], marker='o')\n",
    "plt.title('Misclassification Error vs K (Model 2)')\n",
    "plt.xlabel('K')\n",
    "plt.ylabel('Misclassification Error')\n",
    "plt.show()\n"
   ]
  },
  {
   "cell_type": "markdown",
   "id": "bf4d861f",
   "metadata": {},
   "source": [
    "### Observations:\n",
    "\n",
    "#### Optimal K Values:\n",
    "For Model 1, the misclassification error seems to be lowest around \n",
    " K=15.\n",
    "For Model 2, the misclassification error appears to be lowest around \n",
    "K= 18.5 or K= 19.5.\n",
    "#### Trend:\n",
    "In both models, as K increases, the misclassification error generally decreases. This suggests that a higher value of K helps in reducing the error, likely by smoothing out the decision boundary and reducing the influence of noise in the data.\n",
    "However, there's a point beyond which increasing K doesn't lead to further reduction in error. This is typical in KNN models, where after a certain point, increasing K may start to include points from other classes, which could potentially increase error or keep it stagnant.\n",
    "#### Comparison Between Models:\n",
    "Both models seem to have sligthly different trends and optimal K values. However, the misclassification error for Model 2 is slightly higher than for Model 1 across most K values. This suggests that Model 1 might be a slightly better choice given the selected features, though the difference isn't substantial.\n",
    "#### Recommendations:\n",
    "It might be beneficial to choose K=15 for model 1 and K=18.5 for model 2 based on the observed lower misclassification errors.\n",
    "Additional tuning and potentially exploring other machine learning models or feature engineering techniques could also help in improving the prediction performance."
   ]
  },
  {
   "cell_type": "code",
   "execution_count": null,
   "id": "a0400512",
   "metadata": {},
   "outputs": [],
   "source": []
  }
 ],
 "metadata": {
  "colab": {
   "provenance": []
  },
  "kernelspec": {
   "display_name": "Python 3 (ipykernel)",
   "language": "python",
   "name": "python3"
  },
  "language_info": {
   "codemirror_mode": {
    "name": "ipython",
    "version": 3
   },
   "file_extension": ".py",
   "mimetype": "text/x-python",
   "name": "python",
   "nbconvert_exporter": "python",
   "pygments_lexer": "ipython3",
   "version": "3.11.4"
  }
 },
 "nbformat": 4,
 "nbformat_minor": 5
}
